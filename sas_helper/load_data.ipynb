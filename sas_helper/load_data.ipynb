{
 "cells": [
  {
   "cell_type": "code",
   "execution_count": 79,
   "metadata": {},
   "outputs": [],
   "source": [
    "import torch\n",
    "import pickle\n",
    "import torchvision\n",
    "import matplotlib.pyplot as plt\n",
    "from torch.utils.data import DataLoader\n"
   ]
  },
  {
   "cell_type": "markdown",
   "metadata": {},
   "source": [
    "## Load data"
   ]
  },
  {
   "cell_type": "markdown",
   "metadata": {},
   "source": [
    "As mentioned before, data are stored in HDF5 format. We need to be able to load them. This class generates a loader for us. Feel free to modify it to your needs"
   ]
  },
  {
   "cell_type": "code",
   "execution_count": null,
   "metadata": {},
   "outputs": [],
   "source": [
    "import h5py\n",
    "from torch.utils.data import Dataset\n",
    "\n",
    "class H5Dataset(Dataset):\n",
    "    def __init__(self, h5_path, transforms=None):\n",
    "        self.h5_file = h5py.File(h5_path, \"r\")\n",
    "        self.transform = transforms\n",
    "\n",
    "    def __getitem__(self, index):\n",
    "        sample = self.h5_file[\"data\"][index]\n",
    "        if self.transform is not None:\n",
    "            sample = self.transform(sample)\n",
    "        return (\n",
    "            sample,\n",
    "            int(self.h5_file[\"target\"][index]),\n",
    "        )\n",
    "\n",
    "    def __len__(self):\n",
    "        return self.h5_file[\"target\"].size\n"
   ]
  },
  {
   "cell_type": "code",
   "execution_count": 36,
   "metadata": {},
   "outputs": [],
   "source": [
    "transforms = torchvision.transforms.Compose(\n",
    "    [\n",
    "        torchvision.transforms.ToTensor(),\n",
    "        torchvision.transforms.Resize((180, 180), antialias=True),\n",
    "        torch.nn.ReLU(inplace=True),  # remove negative values if any\n",
    "        torchvision.transforms.Lambda(lambda x: torch.log(x + 1.0)),\n",
    "        torchvision.transforms.Lambda(\n",
    "            lambda x: x / torch.max(x) if torch.max(x) > 0 else x\n",
    "        ),\n",
    "    ]\n",
    ")\n",
    "\n",
    "test_data = H5Dataset(\"./data/test.h5\")"
   ]
  },
  {
   "cell_type": "markdown",
   "metadata": {},
   "source": [
    "see how many data are in this h5 file:"
   ]
  },
  {
   "cell_type": "code",
   "execution_count": 37,
   "metadata": {},
   "outputs": [
    {
     "data": {
      "text/plain": [
       "51866"
      ]
     },
     "execution_count": 37,
     "metadata": {},
     "output_type": "execute_result"
    }
   ],
   "source": [
    "len(test_data)"
   ]
  },
  {
   "cell_type": "markdown",
   "metadata": {},
   "source": [
    "each case is structured like: (psd_array, target)"
   ]
  },
  {
   "cell_type": "code",
   "execution_count": 38,
   "metadata": {},
   "outputs": [
    {
     "data": {
      "text/plain": [
       "(array([[0., 0., 0., ..., 0., 0., 0.],\n",
       "        [0., 0., 0., ..., 0., 0., 0.],\n",
       "        [0., 0., 0., ..., 0., 0., 0.],\n",
       "        ...,\n",
       "        [0., 0., 0., ..., 0., 0., 0.],\n",
       "        [0., 0., 0., ..., 0., 0., 0.],\n",
       "        [0., 0., 0., ..., 0., 0., 0.]], dtype=float32),\n",
       " 17)"
      ]
     },
     "execution_count": 38,
     "metadata": {},
     "output_type": "execute_result"
    }
   ],
   "source": [
    "test_data[0]"
   ]
  },
  {
   "cell_type": "markdown",
   "metadata": {},
   "source": [
    "How to plot for example the first image (idx=0, play with other indexes)"
   ]
  },
  {
   "cell_type": "code",
   "execution_count": 39,
   "metadata": {},
   "outputs": [
    {
     "data": {
      "image/png": "[encoded data removed]",
      "text/plain": [
       "<Figure size 640x480 with 1 Axes>"
      ]
     },
     "metadata": {},
     "output_type": "display_data"
    }
   ],
   "source": [
    "idx = 0\n",
    "psd_array = test_data[idx][0]\n",
    "target = test_data[idx][1]\n",
    "plt.figure()\n",
    "plt.imshow(psd_array)\n",
    "plt.title(target)\n",
    "plt.show()"
   ]
  },
  {
   "cell_type": "markdown",
   "metadata": {},
   "source": [
    "Model is encoded in a target value. To see which model corresponds to which label, I provide this dictionary:"
   ]
  },
  {
   "cell_type": "code",
   "execution_count": 34,
   "metadata": {},
   "outputs": [
    {
     "name": "stdout",
     "output_type": "stream",
     "text": [
      "{0: 'Adsorbed layer', 1: 'Barbell aniso', 2: 'Bcc paracrystal aniso', 3: 'Binary hard sphere', 4: 'Broad peak', 5: 'Capped cylinder aniso', 6: 'Core shell bicelle aniso', 7: 'Core shell bicelle elliptical aniso', 8: 'Core shell bicelle elliptical belt rough aniso', 9: 'Core shell cylinder aniso', 10: 'Core shell ellipsoid aniso', 11: 'Core shell parallelepiped aniso', 12: 'Core shell sphere', 13: 'Cylinder aniso', 14: 'Dab', 15: 'Ellipsoid aniso', 16: 'Elliptical cylinder aniso', 17: 'Fcc paracrystal aniso', 18: 'Flexible cylinder', 19: 'Fractal', 20: 'Fractal core shell', 21: 'Fuzzy sphere', 22: 'Gauss lorentz gel', 23: 'Gel fit', 24: 'Hollow cylinder aniso', 25: 'Hollow rectangular prism aniso', 26: 'Lamellar hg', 27: 'Lamellar hg stack caille', 28: 'Lamellar stack paracrystal', 29: 'Mass fractal', 30: 'Mono gauss coil', 31: 'Multilayer vesicle', 32: 'Parallelepiped aniso', 33: 'Pearl necklace', 34: 'Poly gauss coil', 35: 'Polymer micelle', 36: 'Raspberry', 37: 'Rectangular prism aniso', 38: 'Sc paracrystal aniso', 39: 'Sphere', 40: 'Spinodal', 41: 'Stacked disks aniso', 42: 'Star polymer', 43: 'Surface fractal', 44: 'Teubner strey', 45: 'Triaxial ellipsoid aniso'}\n"
     ]
    }
   ],
   "source": [
    "with open(\"model_names.pkl\", \"rb\") as pf:\n",
    "    model_names = pickle.load(pf)\n",
    "print(model_names)"
   ]
  },
  {
   "cell_type": "markdown",
   "metadata": {},
   "source": [
    "In this case, label 17 is:"
   ]
  },
  {
   "cell_type": "code",
   "execution_count": 35,
   "metadata": {},
   "outputs": [
    {
     "data": {
      "text/plain": [
       "'Fcc paracrystal aniso'"
      ]
     },
     "execution_count": 35,
     "metadata": {},
     "output_type": "execute_result"
    }
   ],
   "source": [
    "model_names[17]"
   ]
  },
  {
   "cell_type": "markdown",
   "metadata": {},
   "source": [
    "### pytorch dataloader\n",
    "\n",
    "I leave here a code template you could use to put this dataset in a dataloader for `pytorch`, which could directly go in a training loop"
   ]
  },
  {
   "cell_type": "code",
   "execution_count": 83,
   "metadata": {},
   "outputs": [],
   "source": [
    "val_dataloader = DataLoader(\n",
    "    test_data,\n",
    "    batch_size=32, # play with this also\n",
    "    num_workers=2, #modify to your cpus available!\n",
    "    shuffle=True,\n",
    ")"
   ]
  },
  {
   "cell_type": "markdown",
   "metadata": {},
   "source": [
    "## Load instrument parameters"
   ]
  },
  {
   "cell_type": "code",
   "execution_count": 6,
   "metadata": {},
   "outputs": [],
   "source": [
    "inst_params = {}\n",
    "for partition in [\"test\", \"train\", \"val\"]:\n",
    "    with open(f\"inst_params_{partition}.pkl\", \"rb\") as pf:\n",
    "        inst_params[partition] = pickle.load(pf)"
   ]
  },
  {
   "cell_type": "code",
   "execution_count": 7,
   "metadata": {},
   "outputs": [
    {
     "data": {
      "text/plain": [
       "torch.Size([51866, 10])"
      ]
     },
     "execution_count": 7,
     "metadata": {},
     "output_type": "execute_result"
    }
   ],
   "source": [
    "inst_params['test'].shape"
   ]
  },
  {
   "cell_type": "code",
   "execution_count": 40,
   "metadata": {},
   "outputs": [
    {
     "data": {
      "text/plain": [
       "tensor([1., 0., 1., 0., 1., 0., 0., 0., 1., 0.])"
      ]
     },
     "execution_count": 40,
     "metadata": {},
     "output_type": "execute_result"
    }
   ],
   "source": [
    "inst_params['test'][0]"
   ]
  },
  {
   "cell_type": "markdown",
   "metadata": {},
   "source": [
    "The instrument parameters of case 0 (idx=0) are:"
   ]
  },
  {
   "cell_type": "markdown",
   "metadata": {},
   "source": [
    "We loaded all the instrument parameters inside the `inst_params` dictionary, with the corresponding partition as key. The 10 parameters that are one hote encoded are:"
   ]
  },
  {
   "cell_type": "code",
   "execution_count": 11,
   "metadata": {},
   "outputs": [
    {
     "name": "stdout",
     "output_type": "stream",
     "text": [
      "['Lam_4.5', 'Lam_6.0', 'zdepth_0.001', 'zdepth_0.002', 'InstSetting_1', 'InstSetting_2', 'InstSetting_3', 'SlitSetting_1', 'SlitSetting_2', 'SlitSetting_3']\n"
     ]
    }
   ],
   "source": [
    "inst_params_names  = ['Lam_4.5', 'Lam_6.0', 'zdepth_0.001', 'zdepth_0.002', 'InstSetting_1', 'InstSetting_2', 'InstSetting_3', 'SlitSetting_1', 'SlitSetting_2', 'SlitSetting_3']\n",
    "print(inst_params_names)"
   ]
  },
  {
   "cell_type": "markdown",
   "metadata": {},
   "source": [
    "- Lam = Lambda, wavelength of monochromatized neutrons in Angstroms. Two possible values [4.5, 6.0]\n",
    "- zdepth = sample thickness, Two possible values [0.001, 0.002]\n",
    "- InstSetting = Instrument setting. 3 possible values [1, 2, 3]\n",
    "- SlitSetting = slit (collimation) setting, 3 possible values [1, 2, 3]\n",
    "\n",
    "Again, variables are one hote encoded. Order of columns matters. This means that case 0 (described above) was measured with a wavelength of 4.5, a sample thickness of 0.001, and a slit setting of 2. (check)\n",
    "\n",
    "This matrix can be used as **input features** for the regression or classification task.\n"
   ]
  },
  {
   "cell_type": "markdown",
   "metadata": {},
   "source": [
    "## Model parameters - Regressor\n",
    "\n",
    "This are the values we want to predict/estimate given an image and the model (and probably the instrument configuration) as an input."
   ]
  },
  {
   "cell_type": "code",
   "execution_count": 12,
   "metadata": {},
   "outputs": [],
   "source": [
    "model_params = {}\n",
    "for partition in [\"test\", \"train\", \"val\"]:\n",
    "    with open(f\"parameters_{partition}.pkl\", \"rb\") as pf:\n",
    "        model_params[partition] = pickle.load(pf)"
   ]
  },
  {
   "cell_type": "code",
   "execution_count": 14,
   "metadata": {},
   "outputs": [
    {
     "data": {
      "text/plain": [
       "torch.Size([51866, 146])"
      ]
     },
     "execution_count": 14,
     "metadata": {},
     "output_type": "execute_result"
    }
   ],
   "source": [
    "model_params['test'].shape"
   ]
  },
  {
   "cell_type": "markdown",
   "metadata": {},
   "source": [
    "The 146 different parameters are:"
   ]
  },
  {
   "cell_type": "code",
   "execution_count": 15,
   "metadata": {},
   "outputs": [
    {
     "name": "stdout",
     "output_type": "stream",
     "text": [
      "['sld', 'sld_solvent', 'radius', 'fuzziness', 'pd_radius', 'radius_cap', 'length', 'theta', 'phi', 'pd_radius_cap', 'pd_length', 'pd_theta', 'pd_phi', 'rg_squared', 'arms', 'pd_rg_squared', 'x_core', 'thick_rim', 'thick_face', 'sld_core', 'sld_face', 'sld_rim', 'sigma', 'Psi', 'pd_thick_rim', 'pd_thick_face', 'pd_Psi', 'dnn', 'd_factor', 'thickness', 'sld_shell', 'pd_thickness', 'ndensity', 'v_core', 'v_corona', 'sld_corona', 'radius_core', 'rg', 'd_penetration', 'n_aggreg', 'pd_radius_core', 'pd_rg', 'length_a', 'length_b', 'length_c', 'pd_length_a', 'pd_length_b', 'pd_length_c', 'volfraction', 'thick_shell', 'thick_solvent', 'n_shells', 'pd_thick_shell', 'pd_thick_solvent', 'length_tail', 'length_head', 'sld_head', 'pd_length_tail', 'pd_length_head', 'second_moment', 'adsorbed_amount', 'density_shell', 'fractal_dim', 'cor_length', 'pd_cor_length', 'fractal_dim_mass', 'cutoff_length', 'pd_cutoff_length', 'radius_polar', 'radius_equatorial', 'pd_radius_polar', 'pd_radius_equatorial', 'b2a_ratio', 'c2a_ratio', 'volfraction_a', 'sld_a', 'sld_b', 'd', 'xi', 'fractal_dim_surf', 'thick_core', 'thick_layer', 'n_stacking', 'sigma_d', 'sld_layer', 'pd_thick_core', 'pd_thick_layer', 'i_zero', 'polydispersity', 'radius_equat_core', 'x_polar_shell', 'pd_radius_equat_core', 'radius_lg', 'radius_sm', 'volfraction_lg', 'volfraction_sm', 'sld_lg', 'sld_sm', 'pd_radius_lg', 'pd_radius_sm', 'radius_equat_minor', 'radius_equat_major', 'pd_radius_equat_minor', 'pd_radius_equat_major', 'Nlayers', 'd_spacing', 'radius_minor', 'r_ratio', 'pd_radius_minor', 'sld_c', 'thick_rim_a', 'thick_rim_b', 'thick_rim_c', 'pd_thick_rim_a', 'pd_thick_rim_b', 'pd_thick_rim_c', 'edge_sep', 'thick_string', 'num_pearls', 'sld_string', 'pd_thick_string', 'kuhn_length', 'pd_kuhn_length', 'gauss_scale', 'cor_length_static', 'lorentz_scale', 'cor_length_dynamic', 'pd_cor_length_static', 'pd_cor_length_dynamic', 'sld_block', 'surface_fraction', 'penetration', 'radius_bell', 'pd_radius_bell', 'porod_scale', 'porod_exp', 'peak_scale', 'correlation_length', 'peak_pos', 'width_exp', 'shape_exp', 'pd_correlation_length', 'gamma', 'q_0', 'guinier_scale', 'Caille_parameter']\n"
     ]
    }
   ],
   "source": [
    "with open(\"parameter_names.pkl\", \"rb\") as pf:\n",
    "    model_params_names = pickle.load(pf)\n",
    "    \n",
    "print(model_params_names)"
   ]
  },
  {
   "cell_type": "markdown",
   "metadata": {},
   "source": [
    "This is the set of all model parameters for all models. It's a sparce matrix, because all SANS models have less than 25 parameters."
   ]
  },
  {
   "cell_type": "code",
   "execution_count": 42,
   "metadata": {},
   "outputs": [
    {
     "data": {
      "text/plain": [
       "tensor([0.2744, 0.3041, 0.0089, 0.0000, 0.0760, 0.0000, 0.0000, 0.8110, 0.3488,\n",
       "        0.0000, 0.0000, 0.5400, 0.6140, 0.0000, 0.0000, 0.0000, 0.0000, 0.0000,\n",
       "        0.0000, 0.0000, 0.0000, 0.0000, 0.0000, 0.4780, 0.0000, 0.0000, 0.6200,\n",
       "        0.9476, 0.5084, 0.0000, 0.0000, 0.0000, 0.0000, 0.0000, 0.0000, 0.0000,\n",
       "        0.0000, 0.0000, 0.0000, 0.0000, 0.0000, 0.0000, 0.0000, 0.0000, 0.0000,\n",
       "        0.0000, 0.0000, 0.0000, 0.0000, 0.0000, 0.0000, 0.0000, 0.0000, 0.0000,\n",
       "        0.0000, 0.0000, 0.0000, 0.0000, 0.0000, 0.0000, 0.0000, 0.0000, 0.0000,\n",
       "        0.0000, 0.0000, 0.0000, 0.0000, 0.0000, 0.0000, 0.0000, 0.0000, 0.0000,\n",
       "        0.0000, 0.0000, 0.0000, 0.0000, 0.0000, 0.0000, 0.0000, 0.0000, 0.0000,\n",
       "        0.0000, 0.0000, 0.0000, 0.0000, 0.0000, 0.0000, 0.0000, 0.0000, 0.0000,\n",
       "        0.0000, 0.0000, 0.0000, 0.0000, 0.0000, 0.0000, 0.0000, 0.0000, 0.0000,\n",
       "        0.0000, 0.0000, 0.0000, 0.0000, 0.0000, 0.0000, 0.0000, 0.0000, 0.0000,\n",
       "        0.0000, 0.0000, 0.0000, 0.0000, 0.0000, 0.0000, 0.0000, 0.0000, 0.0000,\n",
       "        0.0000, 0.0000, 0.0000, 0.0000, 0.0000, 0.0000, 0.0000, 0.0000, 0.0000,\n",
       "        0.0000, 0.0000, 0.0000, 0.0000, 0.0000, 0.0000, 0.0000, 0.0000, 0.0000,\n",
       "        0.0000, 0.0000, 0.0000, 0.0000, 0.0000, 0.0000, 0.0000, 0.0000, 0.0000,\n",
       "        0.0000, 0.0000])"
      ]
     },
     "execution_count": 42,
     "metadata": {},
     "output_type": "execute_result"
    }
   ],
   "source": [
    "# check case 0\n",
    "idx = 0\n",
    "model_params['test'][idx]"
   ]
  },
  {
   "cell_type": "markdown",
   "metadata": {},
   "source": [
    "To check which are the corresponding parameters of this simulation, you can use the masks array as follows (selects parameters for corresponding model)"
   ]
  },
  {
   "cell_type": "code",
   "execution_count": 19,
   "metadata": {},
   "outputs": [],
   "source": [
    "with open(\"sasmodel_masks.pkl\", \"rb\") as pf:\n",
    "    masks = pickle.load(pf)"
   ]
  },
  {
   "cell_type": "code",
   "execution_count": 22,
   "metadata": {},
   "outputs": [
    {
     "data": {
      "text/plain": [
       "torch.Size([46, 146])"
      ]
     },
     "execution_count": 22,
     "metadata": {},
     "output_type": "execute_result"
    }
   ],
   "source": [
    "# 46 masks for the 146 parameters\n",
    "masks.shape"
   ]
  },
  {
   "cell_type": "code",
   "execution_count": 48,
   "metadata": {},
   "outputs": [
    {
     "name": "stdout",
     "output_type": "stream",
     "text": [
      "Fcc paracrystal aniso\n"
     ]
    }
   ],
   "source": [
    "target_idx = test_data[idx][1]\n",
    "print(model_names[target_idx])"
   ]
  },
  {
   "cell_type": "code",
   "execution_count": 74,
   "metadata": {},
   "outputs": [
    {
     "name": "stdout",
     "output_type": "stream",
     "text": [
      "['sld', 'sld_solvent', 'radius', 'pd_radius', 'theta', 'phi', 'pd_theta', 'pd_phi', 'Psi', 'pd_Psi', 'dnn', 'd_factor']\n"
     ]
    }
   ],
   "source": [
    "# mask selecting parameters for this model\n",
    "current_mask = masks[target_idx]\n",
    "\n",
    "def get_parameter_names_from_mask(model_params_names, mask):\n",
    "    return [mi for mi, keep in zip(model_params_names, mask) if not keep]\n",
    "print(get_parameter_names_from_mask(model_params_names, current_mask))"
   ]
  },
  {
   "cell_type": "markdown",
   "metadata": {},
   "source": [
    "Check [here for fcc documentation](https://www.sasview.org/docs/user/models/fcc_paracrystal.html). \n",
    "\n",
    "There are extra parameters that start with pd (polidispersity), and there are no scale or background parameters since the images ar normalized minmax.\n",
    "\n",
    "Therefore, parameters for this model would be:"
   ]
  },
  {
   "cell_type": "code",
   "execution_count": 76,
   "metadata": {},
   "outputs": [
    {
     "data": {
      "text/plain": [
       "tensor([0.2744, 0.3041, 0.0089, 0.0760, 0.8110, 0.3488, 0.5400, 0.6140, 0.4780,\n",
       "        0.6200, 0.9476, 0.5084])"
      ]
     },
     "execution_count": 76,
     "metadata": {},
     "output_type": "execute_result"
    }
   ],
   "source": [
    "model_params['test'][idx][~current_mask]"
   ]
  },
  {
   "cell_type": "markdown",
   "metadata": {},
   "source": [
    "The mask is set to true for thos values that should be masked, so you want to keep the opposite to the mask `~current_mask`."
   ]
  },
  {
   "cell_type": "markdown",
   "metadata": {},
   "source": [
    "With this you have the basics to load data, and also access the metadata. Classification and regression problems, as well as generative modelling can be established."
   ]
  },
  {
   "cell_type": "markdown",
   "metadata": {},
   "source": [
    "For questions, write me at j.robledo@fz-juelich.de"
   ]
  },
  {
   "cell_type": "markdown",
   "metadata": {},
   "source": []
  }
 ],
 "metadata": {
  "kernelspec": {
   "display_name": "torch",
   "language": "python",
   "name": "python3"
  },
  "language_info": {
   "codemirror_mode": {
    "name": "ipython",
    "version": 3
   },
   "file_extension": ".py",
   "mimetype": "text/x-python",
   "name": "python",
   "nbconvert_exporter": "python",
   "pygments_lexer": "ipython3",
   "version": "3.12.8"
  }
 },
 "nbformat": 4,
 "nbformat_minor": 2
}
