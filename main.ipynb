{
 "cells": [
  {
   "cell_type": "code",
   "execution_count": 2,
   "id": "c60faf40",
   "metadata": {},
   "outputs": [
    {
     "name": "stdout",
     "output_type": "stream",
     "text": [
      "data <HDF5 dataset \"data\": shape (25934, 256, 144), type \"<f4\">\n",
      "target <HDF5 dataset \"target\": shape (25934,), type \"|i1\">\n"
     ]
    }
   ],
   "source": [
    "import h5py\n",
    "import fsspec\n",
    "URL = \"https://zenodo.org/records/10119316/files/val.h5\"\n",
    "remote_f = fsspec.open(URL, mode=\"rb\")\n",
    "if hasattr(remote_f, \"open\"):\n",
    "    remote_f = remote_f.open()\n",
    "f = h5py.File(remote_f)\n",
    "f.visititems(print)"
   ]
  }
 ],
 "metadata": {
  "kernelspec": {
   "display_name": "venv",
   "language": "python",
   "name": "python3"
  },
  "language_info": {
   "codemirror_mode": {
    "name": "ipython",
    "version": 3
   },
   "file_extension": ".py",
   "mimetype": "text/x-python",
   "name": "python",
   "nbconvert_exporter": "python",
   "pygments_lexer": "ipython3",
   "version": "3.12.3"
  }
 },
 "nbformat": 4,
 "nbformat_minor": 5
}
