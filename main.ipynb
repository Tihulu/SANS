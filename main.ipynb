{
 "cells": [
  {
   "cell_type": "markdown",
   "id": "7fe95a38",
   "metadata": {},
   "source": [
    "# SANS: Using CNN to predict model ID\n",
    "We will utilize the zenodo [repository](https://zenodo.org/records/10119316) as our data for this project. There is no need to locally download the data as we will be using the library `fsspec` to work directly with the link of the `.h5` files. This will not load the data from the remote files into the user's working memory."
   ]
  },
  {
   "cell_type": "code",
   "execution_count": 1,
   "id": "c60faf40",
   "metadata": {},
   "outputs": [],
   "source": [
    "import h5py\n",
    "import fsspec\n",
    "import torch\n",
    "import pickle\n",
    "import torchvision\n",
    "import matplotlib.pyplot as plt\n",
    "from torch.utils.data import DataLoader\n",
    "from torch.utils.data import Dataset"
   ]
  },
  {
   "cell_type": "markdown",
   "id": "dc108ad0",
   "metadata": {},
   "source": [
    "## load data"
   ]
  },
  {
   "cell_type": "code",
   "execution_count": 2,
   "id": "98d9190b",
   "metadata": {},
   "outputs": [],
   "source": [
    "url = \"https://zenodo.org/records/10119316/files/train.h5\"\n",
    "remote_f = fsspec.open(url, mode=\"rb\")\n",
    "if hasattr(remote_f, \"open\"):\n",
    "    remote_f = remote_f.open()\n",
    "#f = h5py.File(remote_f)\n",
    "#f.visititems(print)"
   ]
  },
  {
   "cell_type": "code",
   "execution_count": 3,
   "id": "b7934a10",
   "metadata": {},
   "outputs": [],
   "source": [
    "class H5Dataset(Dataset):\n",
    "    def __init__(self, h5_path, transforms=None):\n",
    "        self.h5_file = h5py.File(h5_path, \"r\")\n",
    "        self.transform = transforms\n",
    "\n",
    "    def __getitem__(self, index):\n",
    "        sample = self.h5_file[\"data\"][index]\n",
    "        if self.transform is not None:\n",
    "            sample = self.transform(sample)\n",
    "        return (\n",
    "            sample,\n",
    "            int(self.h5_file[\"target\"][index]),\n",
    "        )\n",
    "\n",
    "    def __len__(self):\n",
    "        return self.h5_file[\"target\"].size"
   ]
  },
  {
   "cell_type": "code",
   "execution_count": null,
   "id": "cb701191",
   "metadata": {},
   "outputs": [
    {
     "data": {
      "text/plain": [
       "181531"
      ]
     },
     "execution_count": 4,
     "metadata": {},
     "output_type": "execute_result"
    }
   ],
   "source": [
    "transforms = torchvision.transforms.Compose(\n",
    "    [\n",
    "        torchvision.transforms.ToTensor(),\n",
    "        torchvision.transforms.Resize((180, 180), antialias=True),\n",
    "        torch.nn.ReLU(inplace=True),  # remove negative values if any\n",
    "        torchvision.transforms.Lambda(lambda x: torch.log(x + 1.0)),\n",
    "        torchvision.transforms.Lambda(\n",
    "            lambda x: x / torch.max(x) if torch.max(x) > 0 else x\n",
    "        ),\n",
    "    ]\n",
    ")\n",
    "train_data = H5Dataset(remote_f)\n"
   ]
  },
  {
   "cell_type": "code",
   "execution_count": 5,
   "id": "a1340b58",
   "metadata": {},
   "outputs": [
    {
     "data": {
      "text/plain": [
       "(array([[0., 0., 0., ..., 0., 0., 0.],\n",
       "        [0., 0., 0., ..., 0., 0., 0.],\n",
       "        [0., 0., 0., ..., 0., 0., 0.],\n",
       "        ...,\n",
       "        [0., 0., 0., ..., 0., 0., 0.],\n",
       "        [0., 0., 0., ..., 0., 0., 0.],\n",
       "        [0., 0., 0., ..., 0., 0., 0.]], dtype=float32),\n",
       " 11)"
      ]
     },
     "execution_count": 5,
     "metadata": {},
     "output_type": "execute_result"
    }
   ],
   "source": [
    "len(train_data)\n",
    "train_data[0]"
   ]
  },
  {
   "cell_type": "markdown",
   "id": "5a437e4c",
   "metadata": {},
   "source": [
    "### Plotting a typical 2D intensity array"
   ]
  },
  {
   "cell_type": "code",
   "execution_count": 6,
   "id": "12b6ab18",
   "metadata": {},
   "outputs": [
    {
     "data": {
      "image/png": "[encoded data removed]",
      "text/plain": [
       "<Figure size 640x480 with 1 Axes>"
      ]
     },
     "metadata": {},
     "output_type": "display_data"
    }
   ],
   "source": [
    "idx = 0\n",
    "psd_array = train_data[idx][0]\n",
    "target = train_data[idx][1]\n",
    "plt.figure()\n",
    "plt.imshow(psd_array)\n",
    "plt.title(target)\n",
    "plt.show()"
   ]
  },
  {
   "cell_type": "markdown",
   "id": "3092a0ce",
   "metadata": {},
   "source": [
    "### exploring the model names"
   ]
  },
  {
   "cell_type": "markdown",
   "id": "6fb6d8d9",
   "metadata": {},
   "source": [
    "Manually add the `.pkl` files inside the directory `sas_helper/` as some of the files are too large to be uploaded on a GitHub repo. These files have been purposefully added to `.gitignore` due to this reason."
   ]
  },
  {
   "cell_type": "code",
   "execution_count": null,
   "id": "969e9e5b",
   "metadata": {},
   "outputs": [
    {
     "name": "stdout",
     "output_type": "stream",
     "text": [
      "{0: 'Adsorbed layer', 1: 'Barbell aniso', 2: 'Bcc paracrystal aniso', 3: 'Binary hard sphere', 4: 'Broad peak', 5: 'Capped cylinder aniso', 6: 'Core shell bicelle aniso', 7: 'Core shell bicelle elliptical aniso', 8: 'Core shell bicelle elliptical belt rough aniso', 9: 'Core shell cylinder aniso', 10: 'Core shell ellipsoid aniso', 11: 'Core shell parallelepiped aniso', 12: 'Core shell sphere', 13: 'Cylinder aniso', 14: 'Dab', 15: 'Ellipsoid aniso', 16: 'Elliptical cylinder aniso', 17: 'Fcc paracrystal aniso', 18: 'Flexible cylinder', 19: 'Fractal', 20: 'Fractal core shell', 21: 'Fuzzy sphere', 22: 'Gauss lorentz gel', 23: 'Gel fit', 24: 'Hollow cylinder aniso', 25: 'Hollow rectangular prism aniso', 26: 'Lamellar hg', 27: 'Lamellar hg stack caille', 28: 'Lamellar stack paracrystal', 29: 'Mass fractal', 30: 'Mono gauss coil', 31: 'Multilayer vesicle', 32: 'Parallelepiped aniso', 33: 'Pearl necklace', 34: 'Poly gauss coil', 35: 'Polymer micelle', 36: 'Raspberry', 37: 'Rectangular prism aniso', 38: 'Sc paracrystal aniso', 39: 'Sphere', 40: 'Spinodal', 41: 'Stacked disks aniso', 42: 'Star polymer', 43: 'Surface fractal', 44: 'Teubner strey', 45: 'Triaxial ellipsoid aniso'}\n"
     ]
    }
   ],
   "source": [
    "with open(\"sas_helper/model_names.pkl\", \"rb\") as pf:    # \n",
    "    model_names = pickle.load(pf)\n",
    "print(model_names)"
   ]
  },
  {
   "cell_type": "markdown",
   "id": "61f50b62",
   "metadata": {},
   "source": [
    "In our case, model ID = 11, the model name is given as"
   ]
  },
  {
   "cell_type": "code",
   "execution_count": 9,
   "id": "a0941813",
   "metadata": {},
   "outputs": [
    {
     "data": {
      "text/plain": [
       "'Core shell parallelepiped aniso'"
      ]
     },
     "execution_count": 9,
     "metadata": {},
     "output_type": "execute_result"
    }
   ],
   "source": [
    "model_names[11]"
   ]
  },
  {
   "cell_type": "markdown",
   "id": "690ec05a",
   "metadata": {},
   "source": [
    "### pytorch dataloader\n",
    "\n",
    "Here is a code template you could use to put this dataset in a dataloader for `pytorch`, which could directly go in a training loop."
   ]
  },
  {
   "cell_type": "code",
   "execution_count": 10,
   "id": "d977541c",
   "metadata": {},
   "outputs": [],
   "source": [
    "val_dataloader = DataLoader(\n",
    "    train_data,\n",
    "    batch_size=32, # play with this also\n",
    "    num_workers=2, #modify to your cpus available!\n",
    "    shuffle=True,\n",
    ")"
   ]
  },
  {
   "cell_type": "markdown",
   "id": "23804d5c",
   "metadata": {},
   "source": [
    "### loading instrument parameters"
   ]
  },
  {
   "cell_type": "code",
   "execution_count": 12,
   "id": "2934bebd",
   "metadata": {},
   "outputs": [],
   "source": [
    "inst_params = {}\n",
    "for partition in [\"test\", \"train\", \"val\"]:\n",
    "    with open(f\"sas_helper/inst_params_{partition}.pkl\", \"rb\") as pf:\n",
    "        inst_params[partition] = pickle.load(pf)"
   ]
  },
  {
   "cell_type": "code",
   "execution_count": 14,
   "id": "2203eb0b",
   "metadata": {},
   "outputs": [
    {
     "data": {
      "text/plain": [
       "torch.Size([181531, 10])"
      ]
     },
     "execution_count": 14,
     "metadata": {},
     "output_type": "execute_result"
    }
   ],
   "source": [
    "inst_params['train'].shape"
   ]
  },
  {
   "cell_type": "code",
   "execution_count": 15,
   "id": "529018a9",
   "metadata": {},
   "outputs": [
    {
     "data": {
      "text/plain": [
       "tensor([0., 1., 0., 1., 1., 0., 0., 1., 0., 0.])"
      ]
     },
     "execution_count": 15,
     "metadata": {},
     "output_type": "execute_result"
    }
   ],
   "source": [
    "inst_params['train'][0]"
   ]
  },
  {
   "cell_type": "markdown",
   "id": "10016955",
   "metadata": {},
   "source": [
    "We loaded all the instrument parameters inside the `inst_params` dictionary, with the corresponding partition as key. The 10 parameters that are one-hot encoded are:"
   ]
  },
  {
   "cell_type": "code",
   "execution_count": 16,
   "id": "cc3a658b",
   "metadata": {},
   "outputs": [
    {
     "name": "stdout",
     "output_type": "stream",
     "text": [
      "['Lam_4.5', 'Lam_6.0', 'zdepth_0.001', 'zdepth_0.002', 'InstSetting_1', 'InstSetting_2', 'InstSetting_3', 'SlitSetting_1', 'SlitSetting_2', 'SlitSetting_3']\n"
     ]
    }
   ],
   "source": [
    "inst_params_names  = ['Lam_4.5', 'Lam_6.0', 'zdepth_0.001', 'zdepth_0.002', 'InstSetting_1', 'InstSetting_2', 'InstSetting_3', 'SlitSetting_1', 'SlitSetting_2', 'SlitSetting_3']\n",
    "print(inst_params_names)"
   ]
  },
  {
   "cell_type": "markdown",
   "id": "bae1c200",
   "metadata": {},
   "source": [
    "- Lam = Lambda, wavelength of monochromatized neutrons in Angstroms. Two possible values [4.5, 6.0]\n",
    "- zdepth = sample thickness, Two possible values [0.001, 0.002]\n",
    "- InstSetting = Instrument setting. 3 possible values [1, 2, 3]\n",
    "- SlitSetting = slit (collimation) setting, 3 possible values [1, 2, 3]\n",
    "\n",
    "Again, variables are one hote encoded. Order of columns matters. This means that case 0 (described above) was measured with a wavelength of 4.5, a sample thickness of 0.001, and a slit setting of 2. (check)\n",
    "\n",
    "This matrix can be used as **input features** for the regression or classification task.\n"
   ]
  },
  {
   "cell_type": "markdown",
   "id": "f6934fb2",
   "metadata": {},
   "source": [
    "## model"
   ]
  },
  {
   "cell_type": "markdown",
   "id": "ebf108ab",
   "metadata": {},
   "source": []
  }
 ],
 "metadata": {
  "kernelspec": {
   "display_name": "venv",
   "language": "python",
   "name": "python3"
  },
  "language_info": {
   "codemirror_mode": {
    "name": "ipython",
    "version": 3
   },
   "file_extension": ".py",
   "mimetype": "text/x-python",
   "name": "python",
   "nbconvert_exporter": "python",
   "pygments_lexer": "ipython3",
   "version": "3.12.3"
  }
 },
 "nbformat": 4,
 "nbformat_minor": 5
}
